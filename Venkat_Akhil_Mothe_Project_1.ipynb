{
 "cells": [
  {
   "cell_type": "markdown",
   "metadata": {
    "id": "DlLCK6UgrrpW"
   },
   "source": [
    "# Project 01 - Classify the 10 digits using MNIST data\n",
    "\n",
    "You are required to implement the convolutional neural network using purely numpy to classify the digits. All the techniques and codes will be covered in the next 2 weeks.\n",
    "\n",
    "## Due date\n",
    "\n",
    "March 31th, 2024\n",
    "\n",
    "## Tasks\n",
    "The project include two tasks:\n",
    "### 1. task one: Use the image data (vector) as input, and use Deep feed forward netork to train and predict the labels.\n",
    "### 2. task two: Reshape the image data to 2D array and use it as input, and use convolution neural network to train and predict the labels\n",
    "\n",
    "## Extra Credits\n",
    "If you want to speed up the training using GPU, you will need to write C++ code and wrap it using pybind11 and call it in your python code. This will give you 10 extra credits for this project.\n",
    "\n",
    "## Rubics\n",
    "1. If you code can run at my side and include the basic training cycle, you will get 40% of the total score;\n",
    "2. Your implementation of fully connected layers (forward and backpropagation pass) ----- 20%;\n",
    "3. Your implementation of Convolution layer (forward and backpropagation pass) ----- 20%\n",
    "4. Complete two tasks ----- 20%\n",
    "\n",
    "## Data Description\n",
    "[MNIST](https://en.wikipedia.org/wiki/MNIST_database)"
   ]
  },
  {
   "cell_type": "code",
   "execution_count": 6,
   "metadata": {
    "id": "ohha6cR7ufYF"
   },
   "outputs": [],
   "source": [
    "# load the mnist data\n",
    "from sklearn.datasets import fetch_openml"
   ]
  },
  {
   "cell_type": "code",
   "execution_count": 7,
   "metadata": {
    "colab": {
     "base_uri": "https://localhost:8080/"
    },
    "executionInfo": {
     "elapsed": 33464,
     "status": "ok",
     "timestamp": 1695215741025,
     "user": {
      "displayName": "Weizhe Li",
      "userId": "04517133090572802686"
     },
     "user_tz": 240
    },
    "id": "ChXaGZKCulwM",
    "outputId": "7ddf7663-3895-4e00-d6fd-40594bbb1280"
   },
   "outputs": [
    {
     "name": "stderr",
     "output_type": "stream",
     "text": [
      "C:\\Users\\ALEKHYA\\anaconda3\\Lib\\site-packages\\sklearn\\datasets\\_openml.py:1002: FutureWarning: The default value of `parser` will change from `'liac-arff'` to `'auto'` in 1.4. You can set `parser='auto'` to silence this warning. Therefore, an `ImportError` will be raised from 1.4 if the dataset is dense and pandas is not installed. Note that the pandas parser may return different data types. See the Notes Section in fetch_openml's API doc for details.\n",
      "  warn(\n"
     ]
    }
   ],
   "source": [
    "mnist_28 = fetch_openml('mnist_784')"
   ]
  },
  {
   "cell_type": "code",
   "execution_count": 8,
   "metadata": {
    "id": "rdg9fXJLvBJL"
   },
   "outputs": [],
   "source": [
    "mnist_28_img= mnist_28.data.to_numpy()"
   ]
  },
  {
   "cell_type": "code",
   "execution_count": 9,
   "metadata": {
    "colab": {
     "base_uri": "https://localhost:8080/"
    },
    "executionInfo": {
     "elapsed": 229,
     "status": "ok",
     "timestamp": 1695215819357,
     "user": {
      "displayName": "Weizhe Li",
      "userId": "04517133090572802686"
     },
     "user_tz": 240
    },
    "id": "bX8G-CwQvHcE",
    "outputId": "7e1897a3-efc4-4f2c-8eaf-1187c4b686cb"
   },
   "outputs": [
    {
     "data": {
      "text/plain": [
       "(70000, 784)"
      ]
     },
     "execution_count": 9,
     "metadata": {},
     "output_type": "execute_result"
    }
   ],
   "source": [
    "mnist_28_img.shape"
   ]
  },
  {
   "cell_type": "code",
   "execution_count": 10,
   "metadata": {},
   "outputs": [
    {
     "data": {
      "text/plain": [
       "array([[0., 0., 0., ..., 0., 0., 0.],\n",
       "       [0., 0., 0., ..., 0., 0., 0.],\n",
       "       [0., 0., 0., ..., 0., 0., 0.],\n",
       "       ...,\n",
       "       [0., 0., 0., ..., 0., 0., 0.],\n",
       "       [0., 0., 0., ..., 0., 0., 0.],\n",
       "       [0., 0., 0., ..., 0., 0., 0.]])"
      ]
     },
     "execution_count": 10,
     "metadata": {},
     "output_type": "execute_result"
    }
   ],
   "source": [
    "mnist_28_img"
   ]
  },
  {
   "cell_type": "code",
   "execution_count": 11,
   "metadata": {
    "id": "smYgTNmovS5f"
   },
   "outputs": [],
   "source": [
    "#display one image\n",
    "import matplotlib.pyplot as plt\n",
    "import numpy as np"
   ]
  },
  {
   "cell_type": "code",
   "execution_count": 12,
   "metadata": {
    "colab": {
     "base_uri": "https://localhost:8080/",
     "height": 447
    },
    "executionInfo": {
     "elapsed": 374,
     "status": "ok",
     "timestamp": 1695215964889,
     "user": {
      "displayName": "Weizhe Li",
      "userId": "04517133090572802686"
     },
     "user_tz": 240
    },
    "id": "Hw6NxBBJvajw",
    "outputId": "0366ed09-f96d-4d22-e053-05c41cc83938"
   },
   "outputs": [
    {
     "data": {
      "text/plain": [
       "<matplotlib.image.AxesImage at 0x1d44fd2bb50>"
      ]
     },
     "execution_count": 12,
     "metadata": {},
     "output_type": "execute_result"
    },
    {
     "data": {
      "image/png": "[encoded data removed]",
      "text/plain": [
       "<Figure size 640x480 with 1 Axes>"
      ]
     },
     "metadata": {},
     "output_type": "display_data"
    }
   ],
   "source": [
    "plt.imshow((mnist_28_img[1].reshape(28,28)), cmap=plt.cm.gray)"
   ]
  },
  {
   "cell_type": "code",
   "execution_count": 13,
   "metadata": {},
   "outputs": [],
   "source": [
    "y = mnist_28.target"
   ]
  },
  {
   "cell_type": "code",
   "execution_count": 14,
   "metadata": {},
   "outputs": [
    {
     "data": {
      "text/plain": [
       "(70000,)"
      ]
     },
     "execution_count": 14,
     "metadata": {},
     "output_type": "execute_result"
    }
   ],
   "source": [
    "y.shape"
   ]
  },
  {
   "cell_type": "code",
   "execution_count": 15,
   "metadata": {},
   "outputs": [
    {
     "data": {
      "text/plain": [
       "0        5\n",
       "1        0\n",
       "2        4\n",
       "3        1\n",
       "4        9\n",
       "        ..\n",
       "69995    2\n",
       "69996    3\n",
       "69997    4\n",
       "69998    5\n",
       "69999    6\n",
       "Name: class, Length: 70000, dtype: category\n",
       "Categories (10, object): ['0', '1', '2', '3', ..., '6', '7', '8', '9']"
      ]
     },
     "execution_count": 15,
     "metadata": {},
     "output_type": "execute_result"
    }
   ],
   "source": [
    "y"
   ]
  },
  {
   "cell_type": "markdown",
   "metadata": {},
   "source": [
    "## Task - 1"
   ]
  },
  {
   "cell_type": "code",
   "execution_count": 16,
   "metadata": {},
   "outputs": [
    {
     "name": "stderr",
     "output_type": "stream",
     "text": [
      "C:\\Users\\ALEKHYA\\anaconda3\\Lib\\site-packages\\sklearn\\preprocessing\\_encoders.py:972: FutureWarning: `sparse` was renamed to `sparse_output` in version 1.2 and will be removed in 1.4. `sparse_output` is ignored unless you leave `sparse` to its default value.\n",
      "  warnings.warn(\n"
     ]
    },
    {
     "data": {
      "text/plain": [
       "((56000, 784), (14000, 784), (56000, 10), (14000, 10))"
      ]
     },
     "execution_count": 16,
     "metadata": {},
     "output_type": "execute_result"
    }
   ],
   "source": [
    "from sklearn.model_selection import train_test_split\n",
    "from sklearn.preprocessing import OneHotEncoder\n",
    "\n",
    "X = mnist_28_img / 255.0\n",
    "y = np.array(y.astype(int)) \n",
    "\n",
    "#Converting labels to one-hot encoding\n",
    "encoder = OneHotEncoder(sparse=False)\n",
    "y = y.reshape(-1, 1)\n",
    "y_encoded = encoder.fit_transform(y)\n",
    "\n",
    "#Splitting the dataset into training and testing\n",
    "X_train, X_test, y_train, y_test = train_test_split(X, y_encoded, test_size=0.2, random_state=42)\n",
    "\n",
    "X_train.shape, X_test.shape, y_train.shape, y_test.shape"
   ]
  },
  {
   "cell_type": "code",
   "execution_count": 17,
   "metadata": {},
   "outputs": [],
   "source": [
    "\n",
    "def relu(x):\n",
    "    \"\"\"ReLU (Rectified Linear Unit) activation function.\"\"\"\n",
    "    return np.maximum(0, x)\n",
    "\n",
    "def relu_deriv(x):\n",
    "    \"\"\"Derivative of the ReLU (Rectified Linear Unit) activation function.\"\"\"\n",
    "    return (x > 0).astype(x.dtype)\n",
    "\n",
    "def softmax(x):\n",
    "    \"\"\"Softmax activation function.\"\"\"\n",
    "    exp_x = np.exp(x - np.max(x, axis=-1, keepdims=True))\n",
    "    return exp_x / np.sum(exp_x, axis=-1, keepdims=True)"
   ]
  },
  {
   "cell_type": "code",
   "execution_count": 18,
   "metadata": {},
   "outputs": [],
   "source": [
    "def initialize_parameters(input_size, hidden_size, output_size):\n",
    "    \"\"\"Initialize parameters for a neural network.\"\"\"\n",
    "    np.random.seed(42)  #For reproducibility\n",
    "    Wh = np.random.randn(input_size, hidden_size) * np.sqrt(2. / input_size)  # Initialize weights for hidden layer\n",
    "    bh = np.zeros((1, hidden_size))                                           # Initialize bias for hidden layer\n",
    "    Wo = np.random.randn(hidden_size, output_size) * np.sqrt(2. / hidden_size)# Initialize weights for output layer\n",
    "    bo = np.zeros((1, output_size))                                           # Initialize bias for output layer\n",
    "    return Wh, bh, Wo, bo"
   ]
  },
  {
   "cell_type": "code",
   "execution_count": 19,
   "metadata": {},
   "outputs": [],
   "source": [
    "def forward_pass(X, Wh, bh, Wo, bo):\n",
    "    \"\"\"Perform forward pass through a neural network.\"\"\"\n",
    "    # Hidden layer\n",
    "    inputHidden = np.dot(X, Wh) + bh                     # Calculate input to hidden layer\n",
    "    outputHidden = relu(inputHidden)                     # Apply ReLU activation to hidden layer output\n",
    "    # Output layer\n",
    "    inputForOutputLayer = np.dot(outputHidden, Wo) + bo  # Calculate input to output layer\n",
    "    output = softmax(inputForOutputLayer)                 # Apply softmax activation to output layer\n",
    "    return inputHidden, outputHidden, inputForOutputLayer, output\n"
   ]
  },
  {
   "cell_type": "code",
   "execution_count": 20,
   "metadata": {},
   "outputs": [],
   "source": [
    "def compute_loss(Y, Y_hat):\n",
    "    \"\"\"Compute the cross-entropy loss.\"\"\"\n",
    "    m = Y.shape[0]                                                          # Number of samples\n",
    "    return -np.mean(np.log(Y_hat[np.arange(m), Y.argmax(axis=1)] + 1e-9))    # Calculate cross-entropy loss\n"
   ]
  },
  {
   "cell_type": "code",
   "execution_count": 21,
   "metadata": {},
   "outputs": [],
   "source": [
    "def backprop(X, Y, inputHidden, outputHidden, inputForOutputLayer, output, Wh, bh, Wo, bo):\n",
    "    \"\"\"Perform backpropagation to compute gradients.\"\"\"\n",
    "    m = Y.shape[0]\n",
    "    # Output layer error\n",
    "    error_output_layer = output - Y                                                  # Calculate error at output layer\n",
    "    changes_output = np.dot(outputHidden.T, error_output_layer) / m                  # Compute gradients for weights in output layer\n",
    "    changes_output_bias = np.sum(error_output_layer, axis=0, keepdims=True) / m      # Compute gradients for biases in output layer\n",
    "    # Hidden layer error\n",
    "    error_hidden_layer = np.dot(error_output_layer, Wo.T) * relu_deriv(inputHidden)  # Calculate error at hidden layer\n",
    "    changes_hidden = np.dot(X.T, error_hidden_layer) / m                             # Compute gradients for weights in hidden layer\n",
    "    changes_hidden_bias = np.sum(error_hidden_layer, axis=0, keepdims=True) / m      # Compute gradients for biases in hidden layer\n",
    "    \n",
    "    return changes_hidden, changes_hidden_bias, changes_output, changes_output_bias\n"
   ]
  },
  {
   "cell_type": "code",
   "execution_count": 22,
   "metadata": {},
   "outputs": [],
   "source": [
    "def update_parameters(Wh, bh, Wo, bo, changes_hidden, changes_hidden_bias, changes_output, changes_output_bias, learning_rate):\n",
    "    \"\"\"Update parameters using gradient descent.\"\"\"\n",
    "    # Update weights and biases in hidden layer\n",
    "    Wh -= learning_rate * changes_hidden\n",
    "    bh -= learning_rate * changes_hidden_bias\n",
    "    # Update weights and biases in output layer\n",
    "    Wo -= learning_rate * changes_output\n",
    "    bo -= learning_rate * changes_output_bias\n",
    "    return Wh, bh, Wo, bo\n"
   ]
  },
  {
   "cell_type": "code",
   "execution_count": 23,
   "metadata": {},
   "outputs": [],
   "source": [
    "def train(X_train, Y_train, X_test, Y_test, hidden_size, learning_rate, epochs):\n",
    "    \"\"\"Train the neural network model.\"\"\"\n",
    "    input_size, output_size = X_train.shape[1], Y_train.shape[1]                  # Get input and output sizes\n",
    "    \n",
    "    # Initialize parameters\n",
    "    Wh, bh, Wo, bo = initialize_parameters(input_size, hidden_size, output_size)\n",
    "\n",
    "     # Training loop\n",
    "    for epoch in range(epochs):\n",
    "        # Forward pass\n",
    "        inputHidden, outputHidden, inputForOutputLayer, output = forward_pass(X_train, Wh, bh, Wo, bo)\n",
    "        # Compute loss\n",
    "        loss = compute_loss(Y_train, output)\n",
    "        # Backpropagation\n",
    "        changes_hidden, changes_hidden_bias, changes_output, changes_output_bias = backprop(X_train, Y_train, inputHidden, outputHidden, inputForOutputLayer, output, Wh, bh, Wo, bo)\n",
    "        # Update parameters\n",
    "        Wh, bh, Wo, bo = update_parameters(Wh, bh, Wo, bo, changes_hidden, changes_hidden_bias, changes_output, changes_output_bias, learning_rate)\n",
    "        \n",
    "        # Print loss every 5 epochs\n",
    "        if epoch % 5 == 0 or epoch == epochs - 1:\n",
    "            print(f\"Epoch {epoch}, loss: {loss}\")\n",
    "            \n",
    "    # Evaluation\n",
    "    _, _, _, A2_train = forward_pass(X_train, Wh, bh, Wo, bo)\n",
    "    train_accuracy = np.mean(np.argmax(A2_train, axis=1) == np.argmax(Y_train, axis=1))\n",
    "    print(f\"Training accuracy: {train_accuracy * 100:.2f}%\")\n",
    "    \n",
    "    _, _, _, A2_test = forward_pass(X_test, Wh, bh, Wo, bo)\n",
    "    test_accuracy = np.mean(np.argmax(A2_test, axis=1) == np.argmax(Y_test, axis=1))\n",
    "    print(f\"Test accuracy: {test_accuracy * 100:.2f}%\")\n"
   ]
  },
  {
   "cell_type": "code",
   "execution_count": 24,
   "metadata": {},
   "outputs": [
    {
     "name": "stdout",
     "output_type": "stream",
     "text": [
      "Epoch 0, loss: 2.4696983843981926\n",
      "Epoch 5, loss: 1.8659091303471023\n",
      "Epoch 10, loss: 1.4840461864920003\n",
      "Epoch 15, loss: 1.2101790493611508\n",
      "Epoch 20, loss: 1.0227734130045845\n",
      "Epoch 25, loss: 0.8938405372763555\n",
      "Epoch 30, loss: 0.8019055824967123\n",
      "Epoch 35, loss: 0.7337266502374247\n",
      "Epoch 40, loss: 0.6812886236015083\n",
      "Epoch 45, loss: 0.6397244557690626\n",
      "Epoch 49, loss: 0.6121932524302102\n",
      "Training accuracy: 85.63%\n",
      "Test accuracy: 85.86%\n"
     ]
    }
   ],
   "source": [
    "hidden_size = 256\n",
    "learning_rate = 0.1\n",
    "epochs = 50\n",
    "train(X_train, y_train, X_test, y_test, hidden_size, learning_rate, epochs)"
   ]
  },
  {
   "cell_type": "code",
   "execution_count": 25,
   "metadata": {},
   "outputs": [
    {
     "data": {
      "text/plain": [
       "<matplotlib.image.AxesImage at 0x1d44fdebdd0>"
      ]
     },
     "execution_count": 25,
     "metadata": {},
     "output_type": "execute_result"
    },
    {
     "data": {
      "image/png": "[encoded data removed]",
      "text/plain": [
       "<Figure size 640x480 with 1 Axes>"
      ]
     },
     "metadata": {},
     "output_type": "display_data"
    }
   ],
   "source": [
    "plt.imshow((X_test[0].reshape(28,28)), cmap=plt.cm.gray)"
   ]
  },
  {
   "cell_type": "markdown",
   "metadata": {},
   "source": [
    "## Task - 2"
   ]
  },
  {
   "cell_type": "code",
   "execution_count": 1,
   "metadata": {},
   "outputs": [
    {
     "name": "stdout",
     "output_type": "stream",
     "text": [
      "WARNING:tensorflow:From C:\\Users\\ALEKHYA\\anaconda3\\Lib\\site-packages\\keras\\src\\losses.py:2976: The name tf.losses.sparse_softmax_cross_entropy is deprecated. Please use tf.compat.v1.losses.sparse_softmax_cross_entropy instead.\n",
      "\n"
     ]
    }
   ],
   "source": [
    "import numpy as np\n",
    "import matplotlib.pyplot as plt\n",
    "\n",
    "from keras.datasets import mnist\n",
    "\n",
    "# Load MNIST dataset\n",
    "(X_train, y_train), (X_test, y_test) = mnist.load_data()\n",
    "\n",
    "#Splitting the dataset into training and testing labels\n",
    "train_images = X_train\n",
    "train_labels = y_train\n",
    "test_images = X_test\n",
    "test_labels = y_test\n",
    "\n"
   ]
  },
  {
   "cell_type": "code",
   "execution_count": 2,
   "metadata": {},
   "outputs": [],
   "source": [
    "class Convolution:\n",
    "    \"\"\"Initialize the convolutional layer.\"\"\"\n",
    "    def __init__(self, num_filters, filter_size):\n",
    "        self.num_filters = num_filters            # Number of filters\n",
    "        self.filter_size = filter_size             # Size of each filter\n",
    "        # Initialize filters with random values\n",
    "        self.filters = np.random.randn(num_filters, filter_size, filter_size) / (filter_size * filter_size)\n",
    "\n",
    "    def iterate_regions(self, image):\n",
    "        \"\"\"Iterate over all possible regions of the input image.\"\"\"\n",
    "        h, w = image.shape                       # Height and width of the input image\n",
    "\n",
    "        for i in range(h - self.filter_size + 1):\n",
    "            for j in range(w - self.filter_size + 1):\n",
    "                region = image[i:(i + self.filter_size), j:(j + self.filter_size)]  # Extract region of interest\n",
    "                yield region, i, j\n",
    "\n",
    "    def forward(self, input):\n",
    "        \"\"\"Perform forward pass through the convolutional layer.\"\"\"\n",
    "        self.last_input = input              # Save input for backpropagation\n",
    "        h, w = input.shape                   # Height and width of the input\n",
    "        \n",
    "        # Initialize output array\n",
    "        output = np.zeros((h - self.filter_size + 1, w - self.filter_size + 1, self.num_filters))\n",
    "        # Iterate over each region of the input\n",
    "        for region, i, j in self.iterate_regions(input):\n",
    "            # Perform convolution and sum the results\n",
    "            output[i, j] = np.sum(region * self.filters, axis=(1, 2))\n",
    "\n",
    "        return output\n",
    "\n",
    "    def backprop(self, d_L_d_out, learn_rate):\n",
    "        \"\"\"Perform backpropagation through the convolutional layer.\"\"\"\n",
    "        d_L_d_filters = np.zeros(self.filters.shape)\n",
    "\n",
    "        for region, i, j in self.iterate_regions(self.last_input):\n",
    "            # Update gradients for each filter\n",
    "            for f in range(self.num_filters):\n",
    "                d_L_d_filters[f] += d_L_d_out[i, j, f] * region\n",
    "        \n",
    "        # Update filters using the gradients\n",
    "        self.filters -= learn_rate * d_L_d_filters\n",
    "        return None\n",
    "\n"
   ]
  },
  {
   "cell_type": "code",
   "execution_count": 3,
   "metadata": {},
   "outputs": [],
   "source": [
    "class MaxPool:\n",
    "    def iterate_regions(self, image):\n",
    "        # Define the generator to iterate over regions of the input image\n",
    "        h, w, _ = image.shape\n",
    "        new_h = h // 2\n",
    "        new_w = w // 2\n",
    "\n",
    "        for i in range(new_h):\n",
    "            for j in range(new_w):\n",
    "                # Extract the region of interest\n",
    "                region = image[(i * 2):(i * 2 + 2), (j * 2):(j * 2 + 2)]\n",
    "                yield region, i, j\n",
    "\n",
    "    def forward(self, input):\n",
    "        # Perform forward pass through the max-pooling layer\n",
    "        self.last_input = input\n",
    "        h, w, num_filters = input.shape\n",
    "        output = np.zeros((h // 2, w // 2, num_filters))\n",
    "\n",
    "        for region, i, j in self.iterate_regions(input):\n",
    "            # Find the maximum value in each region and store it in the output\n",
    "            output[i, j] = np.amax(region, axis=(0, 1))\n",
    "\n",
    "        return output\n",
    "\n",
    "    def backprop(self, d_L_d_out):\n",
    "        # Perform backpropagation through the max-pooling layer\n",
    "        d_L_d_input = np.zeros(self.last_input.shape)\n",
    "\n",
    "        for region, i, j in self.iterate_regions(self.last_input):\n",
    "            # Find the maximum value in each region\n",
    "            h, w, f = region.shape\n",
    "            amax = np.amax(region, axis=(0, 1))\n",
    "\n",
    "            for i2 in range(h):\n",
    "                for j2 in range(w):\n",
    "                    for f2 in range(f):\n",
    "                        # Assign the gradient to the corresponding input value\n",
    "                        if region[i2, j2, f2] == amax[f2]:\n",
    "                            d_L_d_input[i * 2 + i2, j * 2 + j2, f2] = d_L_d_out[i, j, f2]\n",
    "\n",
    "        return d_L_d_input\n",
    "\n"
   ]
  },
  {
   "cell_type": "code",
   "execution_count": 4,
   "metadata": {},
   "outputs": [],
   "source": [
    "class Softmax:\n",
    "    def __init__(self, input_len, nodes):\n",
    "        # Initialize weights and biases\n",
    "        self.weights = np.random.randn(input_len, nodes) / input_len\n",
    "        self.biases = np.zeros(nodes)\n",
    "\n",
    "    def forward(self, input):\n",
    "        # Perform forward pass through the softmax layer\n",
    "        self.last_input_shape = input.shape\n",
    "        input = input.flatten()            # Flatten input\n",
    "        self.last_input = input\n",
    "        input_len, nodes = self.weights.shape\n",
    "\n",
    "        # Calculate scores\n",
    "        totals = np.dot(input, self.weights) + self.biases\n",
    "        self.last_totals = totals\n",
    "\n",
    "        # Calculate probabilities using softmax function\n",
    "        exp = np.exp(totals)\n",
    "        return exp / np.sum(exp, axis=0)\n",
    "\n",
    "    def backprop(self, d_L_d_out, learn_rate):\n",
    "        # Perform backpropagation through the softmax layer\n",
    "        for i, gradient in enumerate(d_L_d_out):\n",
    "            if gradient == 0:\n",
    "                continue\n",
    "\n",
    "            t_exp = np.exp(self.last_totals)\n",
    "            S = np.sum(t_exp)\n",
    "\n",
    "            # Calculate derivative of softmax function\n",
    "            d_out_d_t = -t_exp[i] * t_exp / (S ** 2)\n",
    "            d_out_d_t[i] = t_exp[i] * (S - t_exp[i]) / (S ** 2)\n",
    "\n",
    "            # Compute gradients\n",
    "            d_t_d_w = self.last_input\n",
    "            d_t_d_b = 1\n",
    "            d_t_d_inputs = self.weights\n",
    "\n",
    "            d_L_d_t = gradient * d_out_d_t\n",
    "\n",
    "            d_L_d_w = d_t_d_w[np.newaxis].T @ d_L_d_t[np.newaxis]\n",
    "            d_L_d_b = d_L_d_t * d_t_d_b\n",
    "            d_L_d_inputs = d_t_d_inputs @ d_L_d_t\n",
    "\n",
    "            # Update weights and biases using gradients\n",
    "            self.weights -= learn_rate * d_L_d_w\n",
    "            self.biases -= learn_rate * d_L_d_b\n",
    "\n",
    "            # Reshape gradients to match input shape\n",
    "            return d_L_d_inputs.reshape(self.last_input_shape)\n",
    "\n",
    "conv = Convolution(8, 3)        # Initialize convolutional layer with 8 filters of size 3x3\n",
    "pool = MaxPool()                # Initialize max pooling layer\n",
    "softmax = Softmax(13 * 13 * 8, 10)  # Initialize softmax layer with input size 13x13x8 and output size 10\n",
    "\n",
    "\n",
    "def forward(image, label):\n",
    "    # Perform forward pass through the neural network\n",
    "    out = conv.forward((image / 255) - 0.5)        # Normalize image and pass through convolutional layer\n",
    "    out = pool.forward(out)                        # Pass through max pooling layer\n",
    "    out = softmax.forward(out)                     # Pass through softmax layer\n",
    "\n",
    "    # Compute loss and accuracy\n",
    "    loss = -np.log(out[label])\n",
    "    acc = 1 if np.argmax(out) == label else 0\n",
    "\n",
    "    return out, loss, acc\n",
    "\n",
    "def train(image, label, learn_rate=0.005):\n",
    "    # Perform training for a single image-label pair\n",
    "    out, loss, acc = forward(image, label)           # Forward pass\n",
    "\n",
    "    # Compute gradient for softmax layer\n",
    "    gradient = np.zeros(10)\n",
    "    gradient[label] = -1 / out[label]\n",
    "\n",
    "    grad_back = softmax.backprop(gradient, learn_rate)   # Backpropagate through softmax layer\n",
    "    grad_back = pool.backprop(grad_back)                 # Backpropagate through max pooling layer\n",
    "    grad_back = conv.backprop(grad_back, learn_rate)     # Backpropagate through convolutional layer\n",
    "\n",
    "    return loss, acc"
   ]
  },
  {
   "cell_type": "code",
   "execution_count": 5,
   "metadata": {},
   "outputs": [
    {
     "name": "stdout",
     "output_type": "stream",
     "text": [
      "Epoch: 1\n",
      "Step: 10000, Average_loss: 0.47701, Accuracy: 84.88%\n",
      "Step: 20000, Average_loss: 0.38155, Accuracy: 88.15%\n",
      "Step: 30000, Average_loss: 0.33288, Accuracy: 89.77%\n",
      "Step: 40000, Average_loss: 0.30575, Accuracy: 90.67%\n",
      "Step: 50000, Average_loss: 0.28448, Accuracy: 91.38%\n",
      "Final Epoch Metrics - Average_loss: 0.26720, Accuracy: 91.91%\n",
      "Test loss: 0.17184600461953162\n",
      "Test Accuracy: 94.83 %\n"
     ]
    }
   ],
   "source": [
    "\n",
    "\n",
    "for epoch in range(1):\n",
    "    print('Epoch:', epoch + 1)\n",
    "\n",
    "    # Shuffle training data\n",
    "    shuffle_data = np.random.permutation(len(train_images))\n",
    "    train_images = train_images[shuffle_data]\n",
    "    train_labels = train_labels[shuffle_data]\n",
    "\n",
    "    loss = 0\n",
    "    num_correct = 0\n",
    "    \n",
    "    # Training loop\n",
    "    for i, (im, label) in enumerate(zip(train_images, train_labels)):\n",
    "        if i % 10000 == 0 and i > 0:  # Change to 10000 for less frequent logging\n",
    "            print(f\"Step: {i}, Average_loss: {loss / i:.5f}, Accuracy: {num_correct / i * 100:.2f}%\")\n",
    "            # Resetting loss and num_correct after logging is removed to calculate cumulative metrics\n",
    "\n",
    "        # Perform training for a single image-label pair\n",
    "        l1, accu = train(im, label)\n",
    "        loss += l1\n",
    "        num_correct += accu\n",
    "\n",
    "    # Print final epoch metrics\n",
    "    print(f\"Final Epoch Metrics - Average_loss: {loss / len(train_images):.5f}, Accuracy: {num_correct / len(train_images) * 100:.2f}%\")\n",
    "\n",
    "test_loss = 0\n",
    "test_correct = 0\n",
    "\n",
    "# Evaluate on test data\n",
    "for im, label in zip(test_images, test_labels):\n",
    "    _, l1, accu = forward(im, label)\n",
    "    test_loss += l1\n",
    "    test_correct += accu\n",
    "\n",
    "print('Test loss:', test_loss / len(test_images))\n",
    "print('Test Accuracy:', test_correct / len(test_images) * 100, '%')\n"
   ]
  },
  {
   "cell_type": "markdown",
   "metadata": {},
   "source": [
    "## Conclusion"
   ]
  },
  {
   "cell_type": "markdown",
   "metadata": {},
   "source": [
    "Fully Connected Network provided a accuracy and loss of **85.86%** and **0.61** for 50 epochs respectively,\n",
    "\n",
    "Convolution Neural Network provided a validation accuracy and loss score of **94.83%** and **0.17** for 5 steps in 1 epoch respectively."
   ]
  }
 ],
 "metadata": {
  "colab": {
   "authorship_tag": "ABX9TyNgsit5VP94HjlMskC8S520",
   "provenance": []
  },
  "kernelspec": {
   "display_name": "Python 3 (ipykernel)",
   "language": "python",
   "name": "python3"
  },
  "language_info": {
   "codemirror_mode": {
    "name": "ipython",
    "version": 3
   },
   "file_extension": ".py",
   "mimetype": "text/x-python",
   "name": "python",
   "nbconvert_exporter": "python",
   "pygments_lexer": "ipython3",
   "version": "3.11.4"
  }
 },
 "nbformat": 4,
 "nbformat_minor": 1
}
